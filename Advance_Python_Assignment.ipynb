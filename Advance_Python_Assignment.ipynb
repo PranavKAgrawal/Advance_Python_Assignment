{
  "nbformat": 4,
  "nbformat_minor": 0,
  "metadata": {
    "colab": {
      "provenance": [],
      "authorship_tag": "ABX9TyMtVciZblO+7VEQ+VMHNMz/",
      "include_colab_link": true
    },
    "kernelspec": {
      "name": "python3",
      "display_name": "Python 3"
    },
    "language_info": {
      "name": "python"
    }
  },
  "cells": [
    {
      "cell_type": "markdown",
      "metadata": {
        "id": "view-in-github",
        "colab_type": "text"
      },
      "source": [
        "<a href=\"https://colab.research.google.com/github/PranavKAgrawal/Advance_Python_Assignment/blob/main/Advance_Python_Assignment.ipynb\" target=\"_parent\"><img src=\"https://colab.research.google.com/assets/colab-badge.svg\" alt=\"Open In Colab\"/></a>"
      ]
    },
    {
      "cell_type": "markdown",
      "source": [
        "Advance Python Assignments"
      ],
      "metadata": {
        "id": "KqLOiigzXrhb"
      }
    },
    {
      "cell_type": "markdown",
      "source": [
        "------------------------------------------------------------------------\n",
        "Part I: Process Automation"
      ],
      "metadata": {
        "id": "PfK9k0InXk6g"
      }
    },
    {
      "cell_type": "markdown",
      "source": [
        "Q1. Create a file that contains 1000 lines of random strings.\n"
      ],
      "metadata": {
        "id": "UHYmbTRjXxMj"
      }
    },
    {
      "cell_type": "markdown",
      "source": [],
      "metadata": {
        "id": "u5MXUy7RXpwm"
      }
    },
    {
      "cell_type": "code",
      "source": [
        "import random\n",
        "import string\n",
        "\n",
        "\n",
        "\n",
        "with open(\"randstrings.txt\", \"w\") as file:\n",
        "    file_size = 0\n",
        "    while file_size < 10000000:\n",
        "        random_string = ''.join(random.choice(string.ascii_letters + string.digits) for _ in range(100))  # Generates a random string of length 100\n",
        "        file.write(random_string + \"\\n\")\n",
        "        file_size += len(random_string) + 1  # Add 1 for the newline character\n",
        "\n",
        "print(\"File 'random_strings.txt' created successfully.\")\n"
      ],
      "metadata": {
        "id": "G2O03W84XuFb",
        "colab": {
          "base_uri": "https://localhost:8080/"
        },
        "outputId": "c264ccbd-cf0e-4b0d-b07d-685e0f4b2242"
      },
      "execution_count": null,
      "outputs": [
        {
          "output_type": "stream",
          "name": "stdout",
          "text": [
            "File 'random_strings.txt' created successfully.\n"
          ]
        }
      ]
    },
    {
      "cell_type": "markdown",
      "source": [
        "Q2.Create a file that contains multiple lines of random strings and file size must be 5 MB."
      ],
      "metadata": {
        "id": "WkifaYkqvfq_"
      }
    },
    {
      "cell_type": "code",
      "source": [
        "import random\n",
        "import string\n",
        "\n",
        "file_size_limit = 5 * 1024 * 1024  # 5 MB limit\n",
        "\n",
        "with open(\"random_strings.txt\", \"w\") as file:\n",
        "    file_size = 0\n",
        "    while file_size < file_size_limit:\n",
        "        random_string = ''.join(random.choice(string.ascii_letters + string.digits) for _ in range(100))  # Generates a random string of length 100\n",
        "        file.write(random_string + \"\\n\")\n",
        "        file_size += len(random_string) + 1  # Add 1 for the newline character\n",
        "\n",
        "print(\"File 'random_strings.txt' created successfully.\")\n"
      ],
      "metadata": {
        "colab": {
          "base_uri": "https://localhost:8080/"
        },
        "id": "Gq5yVG6WXnhK",
        "outputId": "36d22ebc-35cc-4fd1-bb4e-46aaaadf6cfb"
      },
      "execution_count": null,
      "outputs": [
        {
          "output_type": "stream",
          "name": "stdout",
          "text": [
            "File 'random_strings.txt' created successfully.\n"
          ]
        }
      ]
    },
    {
      "cell_type": "markdown",
      "source": [
        "Q3. Create 10 files that contains multiple lines of random strings and file size of each file must be 5 MB."
      ],
      "metadata": {
        "id": "uEXxn-dcwPHH"
      }
    },
    {
      "cell_type": "code",
      "source": [
        "import random\n",
        "import string\n",
        "\n",
        "file_size_limit = 5 * 1024 * 1024  # 5 MB limit\n",
        "\n",
        "i = 1\n",
        "while i < 11:\n",
        "  with open(\"file\" + str(i) + \".txt\", \"w\") as file:\n",
        "    file_size = 0\n",
        "    while file_size < file_size_limit:\n",
        "        random_string = ''.join(random.choice(string.ascii_letters + string.digits) for _ in range(100))  # Generates a random string of length 100\n",
        "        file.write(random_string + \"\\n\")\n",
        "        file_size += len(random_string) + 1  # Add 1 for the newline character\n",
        "  i = int(i)t\n",
        "  i+=1\n",
        "\n",
        "print(\"10 files that contains multiple lines of random strings and file size of each file must be 5 MB are created successfully.\")"
      ],
      "metadata": {
        "colab": {
          "base_uri": "https://localhost:8080/"
        },
        "id": "_Wt7-truvgr9",
        "outputId": "fd7c3b9a-6af7-46fc-cf8b-33e58e9f4466"
      },
      "execution_count": null,
      "outputs": [
        {
          "output_type": "stream",
          "name": "stdout",
          "text": [
            "10 files that contains multiple lines of random strings and file size of each file must be 5 MB are created successfully.\n"
          ]
        }
      ]
    },
    {
      "cell_type": "markdown",
      "source": [
        "Q4. Create 5 files of size 1GB, 2GB, 3GB, 4GB and 5GB; file contains multiple lines of random strings."
      ],
      "metadata": {
        "id": "eoPT7bOLxvwk"
      }
    },
    {
      "cell_type": "code",
      "source": [
        "import random\n",
        "import string\n",
        "\n",
        "file_size_limit_1 = 1 * 1024 * 1024 * 1024 # 1 MB limit\n",
        "file_size_limit_2 = 2 * 1024 * 1024 * 1024 # 2 MB limit\n",
        "file_size_limit_3 = 3 * 1024 * 1024 * 1024 # 3 MB limit\n",
        "file_size_limit_4 = 4 * 1024 * 1024 * 1024 # 4 MB limit\n",
        "file_size_limit_5 = 5 * 1024 * 1024 * 1024 # 5 MB limit\n",
        "\n",
        "\n",
        "\n",
        "i = 1\n",
        "with open(\"fileQ4_\"+str(i) +\"GB.txt\", \"w\") as file:\n",
        "  file_size = 0\n",
        "  while file_size < file_size_limit_1:\n",
        "    random_string = ''.join(random.choice(string.ascii_letters + string.digits) for _ in range(100))  # Generates a random string of length 100\n",
        "    file.write(random_string + \"\\n\")\n",
        "    file_size += len(random_string) + 1  # Add 1 for the newline character\n",
        "    i = int(i)\n",
        "    i +=1\n",
        "\"\"\"\n",
        "i = 1\n",
        "while i < 6:\n",
        "  with open(\"fileQ4_2GB\" + str(i) + \".txt\", \"w\") as file:\n",
        "    file_size = 0\n",
        "    while file_size < file_size_limit_2:\n",
        "        random_string = ''.join(random.choice(string.ascii_letters + string.digits) for _ in range(100))  # Generates a random string of length 100\n",
        "        file.write(random_string + \"\\n\")\n",
        "        file_size += len(random_string) + 1  # Add 1 for the newline character\n",
        "  i = int(i)\n",
        "  i+=1\n",
        "\n",
        "i = 1\n",
        "while i < 6:\n",
        "  with open(\"fileQ4_3GB\" + str(i) + \".txt\", \"w\") as file:\n",
        "    file_size = 0\n",
        "    while file_size < file_size_limit_3:\n",
        "        random_string = ''.join(random.choice(string.ascii_letters + string.digits) for _ in range(100))  # Generates a random string of length 100\n",
        "        file.write(random_string + \"\\n\")\n",
        "        file_size += len(random_string) + 1  # Add 1 for the newline character\n",
        "  i = int(i)\n",
        "  i+=1\n",
        "\n",
        "i = 1\n",
        "while i < 6:\n",
        "  with open(\"fileQ4_4GB\" + str(i) + \".txt\", \"w\") as file:\n",
        "    file_size = 0\n",
        "    while file_size < file_size_limit_4:\n",
        "        random_string = ''.join(random.choice(string.ascii_letters + string.digits) for _ in range(100))  # Generates a random string of length 100\n",
        "        file.write(random_string + \"\\n\")\n",
        "        file_size += len(random_string) + 1  # Add 1 for the newline character\n",
        "  i = int(i)\n",
        "  i+=1\n",
        "\n",
        "  i = 1\n",
        "while i < 6:\n",
        "  with open(\"fileQ4_5GB\" + str(i) + \".txt\", \"w\") as file:\n",
        "    file_size = 0\n",
        "    while file_size < file_size_limit_5:\n",
        "        random_string = ''.join(random.choice(string.ascii_letters + string.digits) for _ in range(100))  # Generates a random string of length 100\n",
        "        file.write(random_string + \"\\n\")\n",
        "        file_size += len(random_string) + 1  # Add 1 for the newline character\n",
        "  i = int(i)\n",
        "  i+=1\n",
        "\n",
        "print(\"5 files of size 1GB, 2GB, 3GB, 4GB and 5GB; file contains multiple lines of random strings.are created successfully.\")\"\"\"\n"
      ],
      "metadata": {
        "colab": {
          "base_uri": "https://localhost:8080/",
          "height": 127
        },
        "id": "Z6lUrkO_26Y6",
        "outputId": "48fe09d5-f3a0-466f-e588-8902c4a85a27"
      },
      "execution_count": null,
      "outputs": [
        {
          "output_type": "execute_result",
          "data": {
            "text/plain": [
              "'\\ni = 1\\nwhile i < 6:\\n  with open(\"fileQ4_2GB\" + str(i) + \".txt\", \"w\") as file:\\n    file_size = 0\\n    while file_size < file_size_limit_2:\\n        random_string = \\'\\'.join(random.choice(string.ascii_letters + string.digits) for _ in range(100))  # Generates a random string of length 100\\n        file.write(random_string + \"\\n\")\\n        file_size += len(random_string) + 1  # Add 1 for the newline character\\n  i = int(i)\\n  i+=1\\n\\ni = 1\\nwhile i < 6:\\n  with open(\"fileQ4_3GB\" + str(i) + \".txt\", \"w\") as file:\\n    file_size = 0\\n    while file_size < file_size_limit_3:\\n        random_string = \\'\\'.join(random.choice(string.ascii_letters + string.digits) for _ in range(100))  # Generates a random string of length 100\\n        file.write(random_string + \"\\n\")\\n        file_size += len(random_string) + 1  # Add 1 for the newline character\\n  i = int(i)\\n  i+=1\\n\\ni = 1\\nwhile i < 6:\\n  with open(\"fileQ4_4GB\" + str(i) + \".txt\", \"w\") as file:\\n    file_size = 0\\n    while file_size < file_size_limit_4:\\n        random_string = \\'\\'.join(random.choice(string.ascii_letters + string.digits) for _ in range(100))  # Generates a random string of length 100\\n        file.write(random_string + \"\\n\")\\n        file_size += len(random_string) + 1  # Add 1 for the newline character\\n  i = int(i)\\n  i+=1\\n\\n  i = 1\\nwhile i < 6:\\n  with open(\"fileQ4_5GB\" + str(i) + \".txt\", \"w\") as file:\\n    file_size = 0\\n    while file_size < file_size_limit_5:\\n        random_string = \\'\\'.join(random.choice(string.ascii_letters + string.digits) for _ in range(100))  # Generates a random string of length 100\\n        file.write(random_string + \"\\n\")\\n        file_size += len(random_string) + 1  # Add 1 for the newline character\\n  i = int(i)\\n  i+=1\\n\\nprint(\"5 files of size 1GB, 2GB, 3GB, 4GB and 5GB; file contains multiple lines of random strings.are created successfully.\")'"
            ],
            "application/vnd.google.colaboratory.intrinsic+json": {
              "type": "string"
            }
          },
          "metadata": {},
          "execution_count": 18
        }
      ]
    },
    {
      "cell_type": "markdown",
      "source": [
        "Q5. Convert all the files of Q4 into upper case one by one."
      ],
      "metadata": {
        "id": "9Dd-IPonzX5E"
      }
    },
    {
      "cell_type": "code",
      "source": [
        "import string\n",
        "\n",
        "i= 1\n",
        "while i < 6:\n",
        "  Readfp=open('fileQ4_'+str(i)+'GB1.txt.txt')\t\t# Open the file in reading mode\n",
        "  Writefp=open('abc.txt','w')\t# Open the file in writing mode\n",
        "  for line in Readfp: \n",
        "  \tWritefp.write(line.upper())\n",
        "  i = int(i)\n",
        "  i+=1\n",
        "  Writefp.close()\n",
        "  Readfp.close()\n",
        "\n",
        "\n",
        "\n",
        "print(\"All the files of Q4 into upper case one by one are done successfully\")"
      ],
      "metadata": {
        "id": "aIHBQem-za3O"
      },
      "execution_count": null,
      "outputs": []
    },
    {
      "cell_type": "code",
      "source": [],
      "metadata": {
        "id": "Gc_Pnaec1rqg"
      },
      "execution_count": null,
      "outputs": []
    }
  ]
}